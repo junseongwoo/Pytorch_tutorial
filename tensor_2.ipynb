{
 "metadata": {
  "language_info": {
   "codemirror_mode": {
    "name": "ipython",
    "version": 3
   },
   "file_extension": ".py",
   "mimetype": "text/x-python",
   "name": "python",
   "nbconvert_exporter": "python",
   "pygments_lexer": "ipython3",
   "version": 3
  },
  "orig_nbformat": 4
 },
 "nbformat": 4,
 "nbformat_minor": 2,
 "cells": [
  {
   "source": [
    "# DATASET과 DATALOADER "
   ],
   "cell_type": "markdown",
   "metadata": {}
  },
  {
   "source": [
    "## 데이터셋 불러오기 \n",
    "\n",
    "### TorchVision에서 Fashion-MNIST 데이터셋을 불러오는 예제\n",
    "   - 6만개의 학습 데이터와 1만개의 테스트 데이터\n",
    "   - 흑백의 28x28 이미지, 10개의 클래스 \n",
    "\n",
    "### Fashion-MNIST 불러오기 \n",
    "   - root는 학습/테스트 데이터가 저장되는 경로 \n",
    "   - train은 학습/테스트 데이터셋 여부 설정\n",
    "   - download = True 는 root에 데이터가 없는 경우 인터넷에서 다운 \n",
    "   - transform과 target_transform 은 feature과 label, transform을 지정"
   ],
   "cell_type": "markdown",
   "metadata": {}
  },
  {
   "cell_type": "code",
   "execution_count": null,
   "metadata": {},
   "outputs": [],
   "source": [
    "import torch\n"
   ]
  }
 ]
}