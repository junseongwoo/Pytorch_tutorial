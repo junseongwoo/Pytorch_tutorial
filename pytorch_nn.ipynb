{
 "cells": [
  {
   "cell_type": "markdown",
   "source": [
    "# 신경망 모델 구성\r\n",
    "- 신경망은 데이터에 대한 연산을 수행하는 layer와 module로 구성되어 있습니다.\r\n",
    "- torch.nn 네임스페이스는 신경망을 구성하는데 필요한 모든 구성요소를 제공\r\n",
    "- Pytorch의 모든 모듈은 nn.Module의 subclass 입니다. \r\n",
    "- 신경망은 다른 모듈 및 계층으로 구성된 모듈\r\n",
    "- 이렇게 중첩된 구조는 복잡한 아키텍처를 쉽게 구축하고 관리할 수 있습니다."
   ],
   "metadata": {}
  },
  {
   "cell_type": "code",
   "execution_count": 2,
   "source": [
    "import os \r\n",
    "import torch\r\n",
    "from torch import nn\r\n",
    "from torch.utils.data import DataLoader \r\n",
    "from torchvision import datasets, transforms"
   ],
   "outputs": [],
   "metadata": {}
  },
  {
   "cell_type": "markdown",
   "source": [
    "## 학습을 위한 장치 얻기 \r\n",
    "- GPU에서 모델을 학습시키기 위해서 사용, torch.cuda를 사용할 수 있는지 확인하고 그렇지 않다면 CPU 사용"
   ],
   "metadata": {}
  },
  {
   "cell_type": "code",
   "execution_count": 3,
   "source": [
    "device = 'cuda' if torch.cuda.is_available() else 'cpu'\r\n",
    "print('Using {} device'.format(device))"
   ],
   "outputs": [
    {
     "output_type": "stream",
     "name": "stdout",
     "text": [
      "Using cpu device\n"
     ]
    }
   ],
   "metadata": {}
  },
  {
   "cell_type": "markdown",
   "source": [
    "# 클래스 정의하기 \r\n",
    "- 신경망 모델을 nn.Module의 subclass로 정의하고 __init__에서 신경망 layer들을 초기화합니다. \r\n",
    "- nn.Module을 상속받은 모든 클래스는 forward 메소드에 입력 데이터에 대한 연산들을 구현합니다."
   ],
   "metadata": {}
  },
  {
   "cell_type": "code",
   "execution_count": 4,
   "source": [
    "class NeuralNetwork(nn.Module):\r\n",
    "    def __init__(self):\r\n",
    "        super(NeuralNetwork, self).__init__()\r\n",
    "        self.flatten = nn.Flatten()\r\n",
    "        self.linear_relu_stack = nn.Sequential(\r\n",
    "            nn.Linear(28 * 28, 512),\r\n",
    "            nn.ReLU(),\r\n",
    "            nn.Linear(512, 512),\r\n",
    "            nn.ReLU(),\r\n",
    "            nn.Linear(512, 10),\r\n",
    "            nn.ReLU()\r\n",
    "        )\r\n",
    "\r\n",
    "    def forward(self, x):\r\n",
    "        x = self.flatten(x)\r\n",
    "        logits = self.linear_relu_stack(x)\r\n",
    "        return logits\r\n"
   ],
   "outputs": [],
   "metadata": {}
  },
  {
   "cell_type": "code",
   "execution_count": 5,
   "source": [
    "# 정의한 클래스의 인스턴스를 생성하고 이를 device로 이동한뒤 구조를 출력\r\n",
    "model = NeuralNetwork().to(device)\r\n",
    "print(model)"
   ],
   "outputs": [
    {
     "output_type": "stream",
     "name": "stdout",
     "text": [
      "NeuralNetwork(\n",
      "  (flatten): Flatten(start_dim=1, end_dim=-1)\n",
      "  (linear_relu_stack): Sequential(\n",
      "    (0): Linear(in_features=784, out_features=512, bias=True)\n",
      "    (1): ReLU()\n",
      "    (2): Linear(in_features=512, out_features=512, bias=True)\n",
      "    (3): ReLU()\n",
      "    (4): Linear(in_features=512, out_features=10, bias=True)\n",
      "    (5): ReLU()\n",
      "  )\n",
      ")\n"
     ]
    }
   ],
   "metadata": {}
  },
  {
   "cell_type": "code",
   "execution_count": 7,
   "source": [
    "# 모델을 사용하기 위해 입력 데이터를 전달, \r\n",
    "# 일부 백그라운드 연산(https://github.com/pytorch/pytorch/blob/270111b7b611d174967ed204776985cefca9c144/torch/nn/modules/module.py#L866)과 함께 모델의 \r\n",
    "# forword를 실행 \r\n",
    "\r\n",
    "# 모델에 입력을 호출하면 각 class에 대한 raw 에측 값이 있는 10차원 텐서가 반환\r\n",
    "# 원시 예측값을 nn.Softmax 모듈의 인스턴스에 통과시켜 예측 확률을 얻는다.\r\n",
    "\r\n",
    "x = torch.rand(1, 28, 28, device = device)\r\n",
    "logits = model(x)\r\n",
    "pred_probab = nn.Softmax(dim = 1)(logits)\r\n",
    "y_pred = pred_probab.argmax(1)\r\n",
    "print(f\"Predicted class : {y_pred}\")"
   ],
   "outputs": [
    {
     "output_type": "stream",
     "name": "stdout",
     "text": [
      "Predicted class : tensor([8])\n"
     ]
    }
   ],
   "metadata": {}
  },
  {
   "cell_type": "markdown",
   "source": [
    "## 모델 계층(layer)\r\n",
    "- FashionMNIST 모델에서 28x28 크기의 이미지 3개를 미니배치로 가져와 신경망을 통과할 때 어떤 일이 발생하는지 알아보겠음 "
   ],
   "metadata": {}
  },
  {
   "cell_type": "code",
   "execution_count": 8,
   "source": [
    "input_image = torch.rand(3, 28, 28)\r\n",
    "print(input_image.size())"
   ],
   "outputs": [
    {
     "output_type": "stream",
     "name": "stdout",
     "text": [
      "torch.Size([3, 28, 28])\n"
     ]
    }
   ],
   "metadata": {}
  },
  {
   "cell_type": "code",
   "execution_count": 9,
   "source": [
    "# nn.Flatten\r\n",
    "# nn.Flatten은 28x28의 이미지를 784 픽셀 값을 갖는 연속된 배열로 변환 (dim = 0의 미니배치 차원은 유지)\r\n",
    "flatten = nn.Flatten()\r\n",
    "flat_image = flatten(input_image)\r\n",
    "print(flat_image.size())"
   ],
   "outputs": [
    {
     "output_type": "stream",
     "name": "stdout",
     "text": [
      "torch.Size([3, 784])\n"
     ]
    }
   ],
   "metadata": {}
  },
  {
   "cell_type": "code",
   "execution_count": 10,
   "source": [
    "# nn.Linear\r\n",
    "# 선형 계층은 저장된 weight와 bias를 사용하여 입력에 linear transformation을 적용하는 모듈 \r\n",
    "\r\n",
    "layer1 = nn.Linear(in_features = 28*28, out_features = 28)\r\n",
    "hidden1 = layer1(flat_image)\r\n",
    "print(hidden1.size())"
   ],
   "outputs": [
    {
     "output_type": "stream",
     "name": "stdout",
     "text": [
      "torch.Size([3, 28])\n"
     ]
    }
   ],
   "metadata": {}
  },
  {
   "cell_type": "markdown",
   "source": [
    "# nn.Sequential \r\n",
    "- nn.Sequential은 순서를 갖는 모듈의 컨테이너입니다\r\n",
    "- 데이터는 정의된 것과 같은 순서로 모든 모듈들을 통해 전달 됩니다.\r\n",
    "- sequential container를 사용하여 아래의 seq_modules와 같은 신경망을 빠르게 만들 수 있습니다."
   ],
   "metadata": {}
  },
  {
   "cell_type": "code",
   "execution_count": 13,
   "source": [
    "seq_modules = nn.Sequential(\r\n",
    "    flatten,\r\n",
    "    layer1,\r\n",
    "    nn.ReLU(),\r\n",
    "    nn.Linear(28, 10)\r\n",
    ")\r\n",
    "input_image = torch.rand(3, 28, 28)\r\n",
    "logits = seq_modules(input_image)"
   ],
   "outputs": [],
   "metadata": {}
  },
  {
   "cell_type": "markdown",
   "source": [
    "# nn.Softmax \r\n",
    "- 신경망의 마지막 선형 계층은 nn.Softmax 모듈에 전달될 ([-infty, infty] 범위의 raw value값인) logits을 반환 \r\n",
    "- logits는 모델의 각 class에 대한 예측 확률을 나타내도록 [0, 1] 범위로 비례하여 scale 됩니다. \r\n",
    "- dim 매개변수는 값의 합이 1이 되는 차원을 나타냄"
   ],
   "metadata": {}
  },
  {
   "cell_type": "code",
   "execution_count": 14,
   "source": [
    "softmax = nn.Softmax(dim = 1)\r\n",
    "pred_probab = softmax(logits)"
   ],
   "outputs": [],
   "metadata": {}
  },
  {
   "cell_type": "markdown",
   "source": [
    "# 모델 매개변수\r\n",
    "- 신경망 내부 계층들은 parameterize 됩니다. 즉, 학습 중에 최적화되는 weight 및 bias와 연관지어 집니다.\r\n",
    "- nn.Module을 상속하면 모델 객체 내부의 모든 필드들이 자동으로 track 되며, \r\n",
    "모델의 parameters() 및 named_parameters() 메소드로 모든 매개변수에 접근 할 수 있음"
   ],
   "metadata": {}
  },
  {
   "cell_type": "code",
   "execution_count": null,
   "source": [
    "# 각 매개변수들을 (순회)iterate 및 크기와 값을 출력\r\n",
    "print(\"Model structures : \", model, \"\\n\\n\")\r\n",
    "\r\n",
    "for name, param in model.named_parameters():\r\n",
    "    print(f\"Layer : {name} | Size : {param.size()} | Values : {param[:2]} \\n\")"
   ],
   "outputs": [],
   "metadata": {}
  }
 ],
 "metadata": {
  "orig_nbformat": 4,
  "language_info": {
   "name": "python",
   "version": "3.9.5",
   "mimetype": "text/x-python",
   "codemirror_mode": {
    "name": "ipython",
    "version": 3
   },
   "pygments_lexer": "ipython3",
   "nbconvert_exporter": "python",
   "file_extension": ".py"
  },
  "kernelspec": {
   "name": "python3",
   "display_name": "Python 3.9.5 64-bit ('venv': venv)"
  },
  "interpreter": {
   "hash": "14612188b5106734f13b419466ff7a8ffd40ac17353063e9377077bed0ab83e2"
  }
 },
 "nbformat": 4,
 "nbformat_minor": 2
}