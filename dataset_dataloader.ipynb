{
 "cells": [
  {
   "cell_type": "markdown",
   "source": [
    "# DATASET과 DATALOADER \r\n"
   ],
   "metadata": {}
  },
  {
   "cell_type": "code",
   "execution_count": 1,
   "source": [
    "import torch \r\n",
    "from torch.utils.data import Dataset \r\n",
    "from torchvision import datasets\r\n",
    "from torchvision.transforms import ToTensor \r\n",
    "import matplotlib.pyplot as plt"
   ],
   "outputs": [],
   "metadata": {}
  },
  {
   "cell_type": "markdown",
   "source": [
    "## 데이터셋 불러오기\r\n",
    "- TorchVision Fashion-MNIST 데이터셋을 불러오는 예제\r\n",
    "- Fashion-MNIST는 흑백의 28x28 이미지와 10개의 class 중 하나의 label로 구성 \r\n",
    "- datasets.FashionMNIST(\r\n",
    "-   매개변수 \r\n",
    "-   root = 학습/테스트 데이터가 저장되는 경로\r\n",
    "-   train = 학습용 또는 테스트용 데이터셋 여부를 지정 True / False\r\n",
    "-   download = True 시 root 에 데이터가 없는 경우 인터넷에서 다운 \r\n",
    "-   transform, target_transform은 feature과 label, transform을 지정\r\n",
    ")"
   ],
   "metadata": {}
  },
  {
   "cell_type": "code",
   "execution_count": 2,
   "source": [
    "training_data = datasets.FashionMNIST(\r\n",
    "    root = \"data\",\r\n",
    "    train = True,\r\n",
    "    download  = True,\r\n",
    "    transform = ToTensor()\r\n",
    ")\r\n",
    "\r\n",
    "test_data = datasets.FashionMNIST(\r\n",
    "    root = \"data\", \r\n",
    "    train = False,\r\n",
    "    download = True,\r\n",
    "    transform = ToTensor()\r\n",
    ")"
   ],
   "outputs": [
    {
     "output_type": "stream",
     "name": "stdout",
     "text": [
      "Downloading http://fashion-mnist.s3-website.eu-central-1.amazonaws.com/train-images-idx3-ubyte.gz\n",
      "Downloading http://fashion-mnist.s3-website.eu-central-1.amazonaws.com/train-images-idx3-ubyte.gz to data\\FashionMNIST\\raw\\train-images-idx3-ubyte.gz\n"
     ]
    },
    {
     "output_type": "stream",
     "name": "stderr",
     "text": [
      "26422272it [00:03, 7978649.97it/s]                              \n"
     ]
    },
    {
     "output_type": "stream",
     "name": "stdout",
     "text": [
      "Extracting data\\FashionMNIST\\raw\\train-images-idx3-ubyte.gz to data\\FashionMNIST\\raw\n",
      "\n",
      "Downloading http://fashion-mnist.s3-website.eu-central-1.amazonaws.com/train-labels-idx1-ubyte.gz\n",
      "Downloading http://fashion-mnist.s3-website.eu-central-1.amazonaws.com/train-labels-idx1-ubyte.gz to data\\FashionMNIST\\raw\\train-labels-idx1-ubyte.gz\n"
     ]
    },
    {
     "output_type": "stream",
     "name": "stderr",
     "text": [
      "29696it [00:00, 107806.62it/s]                          \n"
     ]
    },
    {
     "output_type": "stream",
     "name": "stdout",
     "text": [
      "Extracting data\\FashionMNIST\\raw\\train-labels-idx1-ubyte.gz to data\\FashionMNIST\\raw\n",
      "\n",
      "Downloading http://fashion-mnist.s3-website.eu-central-1.amazonaws.com/t10k-images-idx3-ubyte.gz\n",
      "Downloading http://fashion-mnist.s3-website.eu-central-1.amazonaws.com/t10k-images-idx3-ubyte.gz to data\\FashionMNIST\\raw\\t10k-images-idx3-ubyte.gz\n"
     ]
    },
    {
     "output_type": "stream",
     "name": "stderr",
     "text": [
      "4422656it [00:02, 1942631.19it/s]                            \n"
     ]
    },
    {
     "output_type": "stream",
     "name": "stdout",
     "text": [
      "Extracting data\\FashionMNIST\\raw\\t10k-images-idx3-ubyte.gz to data\\FashionMNIST\\raw\n",
      "\n",
      "Downloading http://fashion-mnist.s3-website.eu-central-1.amazonaws.com/t10k-labels-idx1-ubyte.gz\n",
      "Downloading http://fashion-mnist.s3-website.eu-central-1.amazonaws.com/t10k-labels-idx1-ubyte.gz to data\\FashionMNIST\\raw\\t10k-labels-idx1-ubyte.gz\n"
     ]
    },
    {
     "output_type": "stream",
     "name": "stderr",
     "text": [
      "6144it [00:00, 5976299.58it/s]          \n",
      "d:\\sources\\GitRepository\\Pytorch_tutorial\\venv\\lib\\site-packages\\torchvision\\datasets\\mnist.py:498: UserWarning: The given NumPy array is not writeable, and PyTorch does not support non-writeable tensors. This means you can write to the underlying (supposedly non-writeable) NumPy array using the tensor. You may want to copy the array to protect its data or make it writeable before converting it to a tensor. This type of warning will be suppressed for the rest of this program. (Triggered internally at  ..\\torch\\csrc\\utils\\tensor_numpy.cpp:180.)\n",
      "  return torch.from_numpy(parsed.astype(m[2], copy=False)).view(*s)\n"
     ]
    },
    {
     "output_type": "stream",
     "name": "stdout",
     "text": [
      "Extracting data\\FashionMNIST\\raw\\t10k-labels-idx1-ubyte.gz to data\\FashionMNIST\\raw\n",
      "\n"
     ]
    }
   ],
   "metadata": {}
  },
  {
   "cell_type": "markdown",
   "source": [
    "# 데이터셋을 반복하고 시각화 하기\r\n",
    "## Dataset에 list 처럼 직접 접근 할 수 있습니다. "
   ],
   "metadata": {}
  },
  {
   "cell_type": "code",
   "execution_count": 5,
   "source": [
    "labels_map = {\r\n",
    "    0: \"T-Shirt\",\r\n",
    "    1: \"Trouser\",\r\n",
    "    2: \"Pullover\",\r\n",
    "    3: \"Dress\",\r\n",
    "    4: \"Coat\",\r\n",
    "    5: \"Sandal\",\r\n",
    "    6: \"Shirt\",\r\n",
    "    7: \"Sneaker\",\r\n",
    "    8: \"Bag\",\r\n",
    "    9: \"Ankle Boot\",\r\n",
    "}\r\n",
    "\r\n",
    "figure = plt.figure(figsize = (8,8))\r\n",
    "\r\n",
    "for i in range(1, 10): \r\n",
    "    sample_idx = torch.randint(len(training_data), size = (1,)).item()\r\n",
    "    img, label = training_data[sample_idx]\r\n",
    "    figure.add_subplot(3, 3, i)\r\n",
    "    plt.title(labels_map[label])\r\n",
    "    plt.axis(\"off\")\r\n",
    "    plt.imshow(img.squeeze(), cmap = \"gray\")\r\n",
    "\r\n",
    "plt.show()\r\n"
   ],
   "outputs": [
    {
     "output_type": "display_data",
     "data": {
      "text/plain": [
       "<Figure size 576x576 with 9 Axes>"
      ],
      "image/png": "[encoded data removed]"
     },
     "metadata": {
      "needs_background": "light"
     }
    }
   ],
   "metadata": {}
  },
  {
   "cell_type": "markdown",
   "source": [
    "# 파일에서 사용자 정의 데이터셋 만들기 \r\n",
    "## 사용자 정의 Dataset 클래스는 !반드시! 3개 함수를 구현해야합니다.\r\n",
    "## ____init__ __ \r\n",
    "## ____len__ __\r\n",
    "## ____getitem__ __\r\n",
    "## FashionMNIST 이미지들은 img_dir 디렉토리에 저장되며 \r\n",
    "## label은 annotations_file csv 파일에 별도로 저장"
   ],
   "metadata": {}
  },
  {
   "cell_type": "code",
   "execution_count": null,
   "source": [
    "import os \r\n",
    "import pandas as pd \r\n",
    "from torchvision.io import read_image\r\n",
    "\r\n",
    "class CustomImageDataset(Dataset):\r\n",
    "    def __init__(self) \r\n"
   ],
   "outputs": [],
   "metadata": {}
  },
  {
   "cell_type": "markdown",
   "source": [],
   "metadata": {}
  },
  {
   "cell_type": "code",
   "execution_count": null,
   "source": [],
   "outputs": [],
   "metadata": {}
  },
  {
   "cell_type": "code",
   "execution_count": null,
   "source": [],
   "outputs": [],
   "metadata": {}
  },
  {
   "cell_type": "code",
   "execution_count": null,
   "source": [],
   "outputs": [],
   "metadata": {}
  }
 ],
 "metadata": {
  "orig_nbformat": 4,
  "language_info": {
   "name": "python",
   "version": "3.9.5",
   "mimetype": "text/x-python",
   "codemirror_mode": {
    "name": "ipython",
    "version": 3
   },
   "pygments_lexer": "ipython3",
   "nbconvert_exporter": "python",
   "file_extension": ".py"
  },
  "kernelspec": {
   "name": "python3",
   "display_name": "Python 3.9.5 64-bit ('venv': venv)"
  },
  "interpreter": {
   "hash": "14612188b5106734f13b419466ff7a8ffd40ac17353063e9377077bed0ab83e2"
  }
 },
 "nbformat": 4,
 "nbformat_minor": 2
}