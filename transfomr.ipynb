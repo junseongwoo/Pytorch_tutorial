{
 "cells": [
  {
   "cell_type": "markdown",
   "source": [
    "# 변형(TRANSFORM)\r\n",
    "- 데이터가 항상 머신러닝 알고리즘 학습에 필요한 최정 처리가 된 형태로 제공되지는 않는다!\r\n",
    "- transform을 하여 데이터를 조작하고 학습에 적합하게 만들어야한다. \r\n",
    "\r\n",
    "- torchVision datasets은 매개변수 두개를 받는데 하나는 feature을 변경하기 위한 transform과 label을 변경하게 위한 target_transform 입니다. \r\n",
    "- torchvision.transforms 모듈은 사용하는 몇가지 transform을 제공합니다. \r\n",
    "\r\n",
    "- FashionMNIST의 feature은 PIL Image이며 label은 integer 입니다. 학습을 하려면 normalize된 텐서 형태의 feature과 one-hot 인코딩된 label이 필요합니다.\r\n",
    "- 이러한 transform을 하기 위해서 Totensor와 Lambda를 사용합니다."
   ],
   "metadata": {}
  },
  {
   "cell_type": "code",
   "execution_count": 1,
   "source": [
    "import torch\r\n",
    "from torchvision import datasets\r\n",
    "from torchvision.transforms import ToTensor, Lambda"
   ],
   "outputs": [],
   "metadata": {}
  },
  {
   "cell_type": "code",
   "execution_count": 2,
   "source": [
    "dataset = datasets.FashionMNIST(\r\n",
    "    root = \"data\",\r\n",
    "    download= True,\r\n",
    "    train=True,\r\n",
    "    # Totensor() \r\n",
    "    # PIL Image 나 Numpy ndarray를 floatTensor로 변환하고 이미지의 픽셀의 크기 값을 [0, 1] 범위로 비레하여 scale합니다.\r\n",
    "    transform= ToTensor(),\r\n",
    "    # Lambda 변형 \r\n",
    "    # 정수를 원핫 인코딩된 텐서로 바꾸는 함수를 정의 \r\n",
    "    # 데이터 셋 label의 개수인 크기 10짜리 zero tensor를 만들고 scatter_를 호출하여 정답 y에 해당하는 인덱스에 value = 1을 할당합니다.\r\n",
    "    target_transform=Lambda(lambda y : torch.zeros(10, dtype = torch.float).scatter_(0, torch.tensor(y), value=1))\r\n",
    ")"
   ],
   "outputs": [
    {
     "output_type": "stream",
     "name": "stderr",
     "text": [
      "d:\\sources\\GitRepository\\Pytorch_tutorial\\venv\\lib\\site-packages\\torchvision\\datasets\\mnist.py:498: UserWarning: The given NumPy array is not writeable, and PyTorch does not support non-writeable tensors. This means you can write to the underlying (supposedly non-writeable) NumPy array using the tensor. You may want to copy the array to protect its data or make it writeable before converting it to a tensor. This type of warning will be suppressed for the rest of this program. (Triggered internally at  ..\\torch\\csrc\\utils\\tensor_numpy.cpp:180.)\n",
      "  return torch.from_numpy(parsed.astype(m[2], copy=False)).view(*s)\n"
     ]
    }
   ],
   "metadata": {}
  },
  {
   "cell_type": "code",
   "execution_count": null,
   "source": [],
   "outputs": [],
   "metadata": {}
  }
 ],
 "metadata": {
  "orig_nbformat": 4,
  "language_info": {
   "name": "python",
   "version": "3.9.5",
   "mimetype": "text/x-python",
   "codemirror_mode": {
    "name": "ipython",
    "version": 3
   },
   "pygments_lexer": "ipython3",
   "nbconvert_exporter": "python",
   "file_extension": ".py"
  },
  "kernelspec": {
   "name": "python3",
   "display_name": "Python 3.9.5 64-bit ('venv': venv)"
  },
  "interpreter": {
   "hash": "14612188b5106734f13b419466ff7a8ffd40ac17353063e9377077bed0ab83e2"
  }
 },
 "nbformat": 4,
 "nbformat_minor": 2
}