{
 "metadata": {
  "language_info": {
   "codemirror_mode": {
    "name": "ipython",
    "version": 3
   },
   "file_extension": ".py",
   "mimetype": "text/x-python",
   "name": "python",
   "nbconvert_exporter": "python",
   "pygments_lexer": "ipython3",
   "version": "3.9.5"
  },
  "orig_nbformat": 4,
  "kernelspec": {
   "name": "python3",
   "display_name": "Python 3.9.5 64-bit ('venv': venv)"
  },
  "interpreter": {
   "hash": "14612188b5106734f13b419466ff7a8ffd40ac17353063e9377077bed0ab83e2"
  }
 },
 "nbformat": 4,
 "nbformat_minor": 2,
 "cells": [
  {
   "source": [
    "# 변형(TRANSFORM)\n",
    "- 데이터가 항상 머신러닝 알고리즘 학습에 필요하게 처리가 된 형태로 제공되지 않음 \n",
    "- Transform을 해서 데이터를 조작하고 학습에 적합하게 만들어야함 \n",
    "- 모든 TorchVision 데이터셋들은 변형 로직/호출 가능한 객체(callable)를 받는 매개변수 두 개 (feature을 변경하기 위해\n",
    "transform과 label을 변경하기 위한 target_transform)을 갖는다.\n",
    "- torchvision.transform 모듈은 주로 사용하는 몇가지 transform을 제공\n",
    "\n",
    "## FashionMNIST의 feature은 PIL Image 형식 / label은 integer 형식 \n",
    "- 학습을 하려면 normalize 된 tensor feature과 one-hot으로 encode 된 텐서의 형태 label이 필요 \n",
    "- transformation 위해 ToTensor과 Lambda를 사용 "
   ],
   "cell_type": "markdown",
   "metadata": {}
  },
  {
   "cell_type": "code",
   "execution_count": 1,
   "metadata": {},
   "outputs": [
    {
     "output_type": "stream",
     "name": "stderr",
     "text": [
      "d:\\sources\\GitRepository\\Pytorch_tutorial\\venv\\lib\\site-packages\\torchvision\\datasets\\mnist.py:498: UserWarning: The given NumPy array is not writeable, and PyTorch does not support non-writeable tensors. This means you can write to the underlying (supposedly non-writeable) NumPy array using the tensor. You may want to copy the array to protect its data or make it writeable before converting it to a tensor. This type of warning will be suppressed for the rest of this program. (Triggered internally at  ..\\torch\\csrc\\utils\\tensor_numpy.cpp:180.)\n  return torch.from_numpy(parsed.astype(m[2], copy=False)).view(*s)\n"
     ]
    }
   ],
   "source": [
    "import torch\n",
    "from torchvision import datasets\n",
    "from torchvision.transforms import ToTensor, Lambda\n",
    "\n",
    "ds = datasets.FashionMNIST(\n",
    "    root = \"data\",\n",
    "    train = True,\n",
    "    download=False,\n",
    "    transform = ToTensor(),\n",
    "    target_transform = Lambda(lambda y : torch.zeros(10, dtype=torch.float).scatter_(0, torch.tensor(y), value=1))\n",
    ")"
   ]
  },
  {
   "source": [
    "# ToTensor()\n",
    "- transform = ToTensor(),\n",
    "- ToTenso는 PIL Image나 Numpy ndarray를 FloatTensor로 변환\n",
    " -> 이미지 픽셀의 크기 값을 [[0. , 1.]] 범위로 비레하여 scale 함\n",
    "\n",
    "# Lambda Transform\n",
    "- target_transform = Lambda(lambda y : torch.zeros(10, dtype=torch.float).scatter_(0, torch.tensor(y), value=1))\n",
    "- 람다 함수를 적용하여 정수를 one-hot으로 encode된 텐서로 바꾸고 함수를 정의\n",
    "- 데이터셋 정답의 개수인 크기 10짜리 zero tensor를 만든다.\n",
    "- scatter_ 를 호출하여 주어진 정답 y 에 해당하는 인덱스에 value = 1 을 할당 "
   ],
   "cell_type": "markdown",
   "metadata": {}
  },
  {
   "cell_type": "code",
   "execution_count": 3,
   "metadata": {},
   "outputs": [],
   "source": [
    "target_transform = Lambda(lambda y : torch.zeros(\n",
    "    10, dtype = torch.float).scatter_(dim=0, index = torch.tensor(y), value = 1\n",
    "))"
   ]
  },
  {
   "cell_type": "code",
   "execution_count": null,
   "metadata": {},
   "outputs": [],
   "source": []
  }
 ]
}