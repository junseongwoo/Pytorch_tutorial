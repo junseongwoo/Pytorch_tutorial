{
 "cells": [
  {
   "cell_type": "code",
   "execution_count": 2,
   "source": [
    "import torch\r\n",
    "import numpy as np"
   ],
   "outputs": [],
   "metadata": {}
  },
  {
   "cell_type": "code",
   "execution_count": 4,
   "source": [
    "# 뷰(view) 원소의 수를 유지하면서 텐서의 크기 변경! 매우 중요 \r\n",
    "# 파이토치 센서의 뷰는 numpy에서의 reshape 같은 역할을 한다. \r\n",
    "t = np.array([[[0, 1, 2],\r\n",
    "              [3, 4, 5]],\r\n",
    "             [[6, 7, 8],\r\n",
    "              [9, 10, 11]]])\r\n",
    "\r\n",
    "ft = torch.FloatTensor(t)"
   ],
   "outputs": [],
   "metadata": {}
  },
  {
   "cell_type": "code",
   "execution_count": 5,
   "source": [
    "print(ft.shape)"
   ],
   "outputs": [
    {
     "output_type": "stream",
     "name": "stdout",
     "text": [
      "torch.Size([2, 2, 3])\n"
     ]
    }
   ],
   "metadata": {}
  },
  {
   "cell_type": "code",
   "execution_count": 7,
   "source": [
    "# 4 - 1 3차원 텐서에서 2차원으로 변경 \r\n",
    "# view([-1, 3])이 가지는 의미 : -1 : 첫번째 차원은 사용자가 잘 모르겠으니 파이토치에 맡기겠다는 의미 \r\n",
    "# 3 : 두번째 차원의 길이는 3으로 하라는 의미 \r\n",
    "# 즉, (?, 3)의 크기를 가지게 하는 것 \r\n",
    "# 결국 내부적으로 (2,2,3) -> (?, 3) 의 형태로 된다.\r\n",
    "\r\n",
    "# view 규칙 : 변경 전과 변경 후의 텐서 안의 원소의 개수가 유지되어야함 \r\n",
    "# 파이토치의 view는 사이즈가 -1로 설정되면 다른 차원으로부터 해당 값을 유추 \r\n",
    "print(ft.shape)  # 2 x 2 x 3 = 12\r\n",
    "print(ft.view([-1, 3]))\r\n",
    "print(ft.view([-1, 3]).shape) # 4 x 3 = 12 "
   ],
   "outputs": [
    {
     "output_type": "stream",
     "name": "stdout",
     "text": [
      "torch.Size([2, 2, 3])\n",
      "tensor([[ 0.,  1.,  2.],\n",
      "        [ 3.,  4.,  5.],\n",
      "        [ 6.,  7.,  8.],\n",
      "        [ 9., 10., 11.]])\n",
      "torch.Size([4, 3])\n"
     ]
    }
   ],
   "metadata": {}
  },
  {
   "cell_type": "code",
   "execution_count": 8,
   "source": [
    "# 4 - 2 3차원 텐서의 크기 변경 \r\n",
    "# 3차원 텐서에서 3차원 텐서로 차원은 유지하는데 shape를 바꾸는 작업 \r\n",
    "# (2 x 2 x 3) = 12 와 ( ? x 1 x 3 ) = 12가 되기 위해 ?는 4가 되어야한다.\r\n",
    "\r\n",
    "print(ft.view([-1, 1, 3]))\r\n",
    "print(ft.view([-1, 1, 3]).shape)"
   ],
   "outputs": [
    {
     "output_type": "stream",
     "name": "stdout",
     "text": [
      "tensor([[[ 0.,  1.,  2.]],\n",
      "\n",
      "        [[ 3.,  4.,  5.]],\n",
      "\n",
      "        [[ 6.,  7.,  8.]],\n",
      "\n",
      "        [[ 9., 10., 11.]]])\n",
      "torch.Size([4, 1, 3])\n"
     ]
    }
   ],
   "metadata": {}
  },
  {
   "cell_type": "code",
   "execution_count": 9,
   "source": [
    "# 5) 스퀴즈(Squeeze) - 차원이 1인 것을 제거 \r\n",
    "ft = torch.FloatTensor([[0], [1], [2]])\r\n",
    "\r\n",
    "print(ft)\r\n",
    "print(ft.shape)"
   ],
   "outputs": [
    {
     "output_type": "stream",
     "name": "stdout",
     "text": [
      "tensor([[0.],\n",
      "        [1.],\n",
      "        [2.]])\n",
      "torch.Size([3, 1])\n"
     ]
    }
   ],
   "metadata": {}
  },
  {
   "cell_type": "code",
   "execution_count": 10,
   "source": [
    "# 원래 텐서는 ( 3 x 1 )을 가지지만 두번째 차원이 1이므로 squeeze를 사용하며 (3, )의 크기를 가지는 텐서로 변경\r\n",
    "# 1차원 벡터가 되는 것이 보여짐 \r\n",
    "print(ft.squeeze())\r\n",
    "print(ft.squeeze().shape)"
   ],
   "outputs": [
    {
     "output_type": "stream",
     "name": "stdout",
     "text": [
      "tensor([0., 1., 2.])\n",
      "torch.Size([3])\n"
     ]
    }
   ],
   "metadata": {}
  },
  {
   "cell_type": "code",
   "execution_count": 11,
   "source": [
    "# 6) 언스퀴즈 (unsqueeze) 특정 위치에 1인 차원을 추가\r\n",
    "\r\n",
    "ft = torch.Tensor([0, 1, 2])\r\n",
    "print(ft.shape)"
   ],
   "outputs": [
    {
     "output_type": "stream",
     "name": "stdout",
     "text": [
      "torch.Size([3])\n"
     ]
    }
   ],
   "metadata": {}
  },
  {
   "cell_type": "code",
   "execution_count": 12,
   "source": [
    "print(ft.unsqueeze(0))\r\n",
    "print(ft.unsqueeze(0).shape)"
   ],
   "outputs": [
    {
     "output_type": "stream",
     "name": "stdout",
     "text": [
      "tensor([[0., 1., 2.]])\n",
      "torch.Size([1, 3])\n"
     ]
    }
   ],
   "metadata": {}
  },
  {
   "cell_type": "code",
   "execution_count": 13,
   "source": [
    "# 2차원으로 바꾸고 싶으면서 첫번째 차원은 1이기를 원한다면 view에서 (1, -1)인자를 사용 \r\n",
    "# 언퀴즈와 동일한 결과가 나온다 \r\n",
    "print(ft.view(1, -1))\r\n",
    "print(ft.view(1, -1).shape)"
   ],
   "outputs": [
    {
     "output_type": "stream",
     "name": "stdout",
     "text": [
      "tensor([[0., 1., 2.]])\n",
      "torch.Size([1, 3])\n"
     ]
    }
   ],
   "metadata": {}
  },
  {
   "cell_type": "code",
   "execution_count": 14,
   "source": [
    "print(ft.unsqueeze(1))\r\n",
    "print(ft.unsqueeze(1).shape)"
   ],
   "outputs": [
    {
     "output_type": "stream",
     "name": "stdout",
     "text": [
      "tensor([[0.],\n",
      "        [1.],\n",
      "        [2.]])\n",
      "torch.Size([3, 1])\n"
     ]
    }
   ],
   "metadata": {}
  },
  {
   "cell_type": "code",
   "execution_count": 15,
   "source": [
    "print(ft.unsqueeze(-1))\r\n",
    "print(ft.unsqueeze(-1).shape)"
   ],
   "outputs": [
    {
     "output_type": "stream",
     "name": "stdout",
     "text": [
      "tensor([[0.],\n",
      "        [1.],\n",
      "        [2.]])\n",
      "torch.Size([3, 1])\n"
     ]
    }
   ],
   "metadata": {}
  },
  {
   "cell_type": "code",
   "execution_count": 16,
   "source": [
    "# 결론 : view(), squeeze(), unsqueeze() 는 텐서의 원소 수를 그대로 유지하면서 모양과 차원을 조절"
   ],
   "outputs": [],
   "metadata": {}
  },
  {
   "cell_type": "code",
   "execution_count": 18,
   "source": [
    "# 7) 타입 캐스팅(Type Casting)\r\n",
    "# 텐서의 자료형을 변환 하는 것을 타입 캐스팅이라고 함\r\n",
    "\r\n",
    "lt = torch.LongTensor([1, 2, 3, 4])\r\n",
    "print(lt)"
   ],
   "outputs": [
    {
     "output_type": "stream",
     "name": "stdout",
     "text": [
      "tensor([1, 2, 3, 4])\n",
      "<class 'torch.Tensor'>\n"
     ]
    }
   ],
   "metadata": {}
  },
  {
   "cell_type": "code",
   "execution_count": 20,
   "source": [
    "print(lt.float())"
   ],
   "outputs": [
    {
     "output_type": "stream",
     "name": "stdout",
     "text": [
      "tensor([1., 2., 3., 4.])\n"
     ]
    }
   ],
   "metadata": {}
  },
  {
   "cell_type": "code",
   "execution_count": 21,
   "source": [
    "bt = torch.ByteTensor([True, False, False, True])\r\n",
    "print(bt)"
   ],
   "outputs": [
    {
     "output_type": "stream",
     "name": "stdout",
     "text": [
      "tensor([1, 0, 0, 1], dtype=torch.uint8)\n"
     ]
    }
   ],
   "metadata": {}
  },
  {
   "cell_type": "code",
   "execution_count": 22,
   "source": [
    "print(bt.long())\r\n",
    "print(bt.float())"
   ],
   "outputs": [
    {
     "output_type": "stream",
     "name": "stdout",
     "text": [
      "tensor([1, 0, 0, 1])\n",
      "tensor([1., 0., 0., 1.])\n"
     ]
    }
   ],
   "metadata": {}
  },
  {
   "cell_type": "code",
   "execution_count": 23,
   "source": [
    "# 8) 연결하기 (concatenate)\r\n",
    "# 딥러닝에서는 주로 모델의 입력 또는 중간 연산에서 두 개의 텐서를 연결하는 경우가 많습니다. \r\n",
    "# 두 텐서를 연결해서 입력으로 사용하는 것은 두가지의 정보를 모두 사용한다는 의미\r\n",
    "x = torch.FloatTensor([[1, 2], [3, 4]]) # ( 2 x 2 )\r\n",
    "y = torch.FloatTensor([[5, 6], [7, 8]]) # ( 2 x 2 )"
   ],
   "outputs": [],
   "metadata": {}
  },
  {
   "cell_type": "code",
   "execution_count": 24,
   "source": [
    "print(torch.cat([x,y], dim = 0)) # ( 4 x 2 )"
   ],
   "outputs": [
    {
     "output_type": "stream",
     "name": "stdout",
     "text": [
      "tensor([[1., 2.],\n",
      "        [3., 4.],\n",
      "        [5., 6.],\n",
      "        [7., 8.]])\n"
     ]
    }
   ],
   "metadata": {}
  },
  {
   "cell_type": "code",
   "execution_count": 25,
   "source": [
    "print(torch.cat([x,y], dim = 1)) # ( 2 x 4 )"
   ],
   "outputs": [
    {
     "output_type": "stream",
     "name": "stdout",
     "text": [
      "tensor([[1., 2., 5., 6.],\n",
      "        [3., 4., 7., 8.]])\n"
     ]
    }
   ],
   "metadata": {}
  },
  {
   "cell_type": "code",
   "execution_count": 26,
   "source": [
    "# 9) 스택킹(Stacking) \r\n",
    "# concat을 하는 다른 방법으로 stacking이 있다\r\n",
    "# stacking은 영어로 쌓는다는 의미 \r\n",
    "\r\n",
    "x = torch.FloatTensor([1, 4])\r\n",
    "y = torch.FloatTensor([2, 5])\r\n",
    "z = torch.FloatTensor([3, 6])"
   ],
   "outputs": [],
   "metadata": {}
  },
  {
   "cell_type": "code",
   "execution_count": 27,
   "source": [
    "print(torch.stack([x, y, z]))"
   ],
   "outputs": [
    {
     "output_type": "stream",
     "name": "stdout",
     "text": [
      "tensor([[1., 4.],\n",
      "        [2., 5.],\n",
      "        [3., 6.]])\n"
     ]
    }
   ],
   "metadata": {}
  },
  {
   "cell_type": "code",
   "execution_count": 28,
   "source": [
    "print(torch.cat([x.unsqueeze(0), y.unsqueeze(0), z.unsqueeze(0)], dim  = 0))"
   ],
   "outputs": [
    {
     "output_type": "stream",
     "name": "stdout",
     "text": [
      "tensor([[1., 4.],\n",
      "        [2., 5.],\n",
      "        [3., 6.]])\n"
     ]
    }
   ],
   "metadata": {}
  },
  {
   "cell_type": "code",
   "execution_count": 29,
   "source": [
    "print(torch.stack([x, y, z], dim=1))"
   ],
   "outputs": [
    {
     "output_type": "stream",
     "name": "stdout",
     "text": [
      "tensor([[1., 2., 3.],\n",
      "        [4., 5., 6.]])\n"
     ]
    }
   ],
   "metadata": {}
  },
  {
   "cell_type": "code",
   "execution_count": 31,
   "source": [
    "# 10 ) ones_like 와 zeros_like : 1과 0으로 채워진 텐서 \r\n",
    "\r\n",
    "x = torch.FloatTensor([[0, 1, 2], [2, 1, 0]])\r\n",
    "print(x)"
   ],
   "outputs": [
    {
     "output_type": "stream",
     "name": "stdout",
     "text": [
      "tensor([[0., 1., 2.],\n",
      "        [2., 1., 0.]])\n"
     ]
    }
   ],
   "metadata": {}
  },
  {
   "cell_type": "code",
   "execution_count": 32,
   "source": [
    "print(torch.zeros_like(x))"
   ],
   "outputs": [
    {
     "output_type": "stream",
     "name": "stdout",
     "text": [
      "tensor([[0., 0., 0.],\n",
      "        [0., 0., 0.]])\n"
     ]
    }
   ],
   "metadata": {}
  },
  {
   "cell_type": "code",
   "execution_count": 35,
   "source": [
    "# 11) In-place Operation (덮어쓰기 연산)\r\n",
    "\r\n",
    "x = torch.FloatTensor([[1, 2], [3, 4]]) # (2 x 2) \r\n",
    "print(x)"
   ],
   "outputs": [
    {
     "output_type": "stream",
     "name": "stdout",
     "text": [
      "tensor([[1., 2.],\n",
      "        [3., 4.]])\n"
     ]
    }
   ],
   "metadata": {}
  },
  {
   "cell_type": "code",
   "execution_count": 34,
   "source": [
    "print(x.mul(2.))\r\n",
    "print(x)"
   ],
   "outputs": [
    {
     "output_type": "stream",
     "name": "stdout",
     "text": [
      "tensor([[2., 4.],\n",
      "        [6., 8.]])\n",
      "tensor([[1., 2.],\n",
      "        [3., 4.]])\n"
     ]
    }
   ],
   "metadata": {}
  },
  {
   "cell_type": "code",
   "execution_count": 36,
   "source": [
    "print(x.mul_(2.))  # 곱하기 2를 수행한 결과를 변수 x에 값을 저장하면서 결과를 출력\r\n",
    "print(x) # 기존의 값 출력"
   ],
   "outputs": [
    {
     "output_type": "stream",
     "name": "stdout",
     "text": [
      "tensor([[2., 4.],\n",
      "        [6., 8.]])\n",
      "tensor([[2., 4.],\n",
      "        [6., 8.]])\n"
     ]
    }
   ],
   "metadata": {}
  }
 ],
 "metadata": {
  "orig_nbformat": 4,
  "language_info": {
   "name": "python",
   "version": "3.9.5",
   "mimetype": "text/x-python",
   "codemirror_mode": {
    "name": "ipython",
    "version": 3
   },
   "pygments_lexer": "ipython3",
   "nbconvert_exporter": "python",
   "file_extension": ".py"
  },
  "kernelspec": {
   "name": "python3",
   "display_name": "Python 3.9.5 64-bit ('venv': venv)"
  },
  "interpreter": {
   "hash": "14612188b5106734f13b419466ff7a8ffd40ac17353063e9377077bed0ab83e2"
  }
 },
 "nbformat": 4,
 "nbformat_minor": 2
}