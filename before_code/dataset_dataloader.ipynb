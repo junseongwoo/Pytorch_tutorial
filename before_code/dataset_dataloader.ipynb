{
 "cells": [
  {
   "cell_type": "markdown",
   "source": [
    "# DATASET과 DATALOADER \r\n"
   ],
   "metadata": {}
  },
  {
   "cell_type": "code",
   "execution_count": 1,
   "source": [
    "import torch \r\n",
    "from torch.utils.data import Dataset \r\n",
    "from torchvision import datasets\r\n",
    "from torchvision.transforms import ToTensor \r\n",
    "import matplotlib.pyplot as plt"
   ],
   "outputs": [],
   "metadata": {}
  },
  {
   "cell_type": "markdown",
   "source": [
    "## 데이터셋 불러오기\r\n",
    "- TorchVision Fashion-MNIST 데이터셋을 불러오는 예제\r\n",
    "- Fashion-MNIST는 흑백의 28x28 이미지와 10개의 class 중 하나의 label로 구성 \r\n",
    "- datasets.FashionMNIST(\r\n",
    "-   매개변수 \r\n",
    "-   root = 학습/테스트 데이터가 저장되는 경로\r\n",
    "-   train = 학습용 또는 테스트용 데이터셋 여부를 지정 True / False\r\n",
    "-   download = True 시 root 에 데이터가 없는 경우 인터넷에서 다운 \r\n",
    "-   transform, target_transform은 feature과 label, transform을 지정\r\n",
    ")"
   ],
   "metadata": {}
  },
  {
   "cell_type": "code",
   "execution_count": 2,
   "source": [
    "training_data = datasets.FashionMNIST(\r\n",
    "    root = \"data\",\r\n",
    "    train = True,\r\n",
    "    download  = True,\r\n",
    "    transform = ToTensor()\r\n",
    ")\r\n",
    "\r\n",
    "test_data = datasets.FashionMNIST(\r\n",
    "    root = \"data\", \r\n",
    "    train = False,\r\n",
    "    download = True,\r\n",
    "    transform = ToTensor()\r\n",
    ")"
   ],
   "outputs": [
    {
     "output_type": "stream",
     "name": "stderr",
     "text": [
      "c:\\Users\\user\\Desktop\\Git\\Pytorch_tutorial\\venv\\lib\\site-packages\\torchvision\\datasets\\mnist.py:498: UserWarning: The given NumPy array is not writeable, and PyTorch does not support non-writeable tensors. This means you can write to the underlying (supposedly non-writeable) NumPy array using the tensor. You may want to copy the array to protect its data or make it writeable before converting it to a tensor. This type of warning will be suppressed for the rest of this program. (Triggered internally at  ..\\torch\\csrc\\utils\\tensor_numpy.cpp:180.)\n",
      "  return torch.from_numpy(parsed.astype(m[2], copy=False)).view(*s)\n"
     ]
    }
   ],
   "metadata": {}
  },
  {
   "cell_type": "markdown",
   "source": [
    "# 데이터셋을 반복하고 시각화 하기\r\n",
    "## Dataset에 list 처럼 직접 접근 할 수 있습니다. "
   ],
   "metadata": {}
  },
  {
   "cell_type": "code",
   "execution_count": 3,
   "source": [
    "labels_map = {\r\n",
    "    0: \"T-Shirt\",\r\n",
    "    1: \"Trouser\",\r\n",
    "    2: \"Pullover\",\r\n",
    "    3: \"Dress\",\r\n",
    "    4: \"Coat\",\r\n",
    "    5: \"Sandal\",\r\n",
    "    6: \"Shirt\",\r\n",
    "    7: \"Sneaker\",\r\n",
    "    8: \"Bag\",\r\n",
    "    9: \"Ankle Boot\",\r\n",
    "}\r\n",
    "\r\n",
    "figure = plt.figure(figsize = (8,8))\r\n",
    "\r\n",
    "for i in range(1, 10): \r\n",
    "    sample_idx = torch.randint(len(training_data), size = (1,)).item()\r\n",
    "    img, label = training_data[sample_idx]\r\n",
    "    figure.add_subplot(3, 3, i)\r\n",
    "    plt.title(labels_map[label])\r\n",
    "    plt.axis(\"off\")\r\n",
    "    plt.imshow(img.squeeze(), cmap = \"gray\")\r\n",
    "\r\n",
    "plt.show()\r\n"
   ],
   "outputs": [
    {
     "output_type": "display_data",
     "data": {
      "text/plain": [
       "<Figure size 576x576 with 9 Axes>"
      ],
      "image/png": "[encoded data removed]"
     },
     "metadata": {
      "needs_background": "light"
     }
    }
   ],
   "metadata": {}
  },
  {
   "cell_type": "markdown",
   "source": [
    "# 파일에서 사용자 정의 데이터셋 만들기 \r\n",
    "## 사용자 정의 Dataset 클래스는 !반드시! 3개 함수를 구현해야합니다.\r\n",
    "## ____init__ __ \r\n",
    "## ____len__ __\r\n",
    "## ____getitem__ __\r\n",
    "## FashionMNIST 이미지들은 img_dir 디렉토리에 저장되며 \r\n",
    "## label은 annotations_file csv 파일에 별도로 저장"
   ],
   "metadata": {}
  },
  {
   "cell_type": "code",
   "execution_count": 4,
   "source": [
    "import os \r\n",
    "import pandas as pd \r\n",
    "from torchvision.io import read_image\r\n",
    "\r\n",
    "class CustomImageDataset(Dataset):\r\n",
    "    # __init__ 함수는 Data 객체가 instantiate 될 때 한번 실행 \r\n",
    "    # 여기서는 annotations_file이 포함된 디렉토리와 두가지 변형에 대해 초기화 한다.\r\n",
    "    def __init__(self, annotations_file, img_dir, transform = None, target_transform = None ):\r\n",
    "        self.img_labels = pd.read_csv(annotations_file)\r\n",
    "        self.img_dir = img_dir \r\n",
    "        self.transform = transform \r\n",
    "        self.target_transform = target_transform \r\n",
    "\r\n",
    "    # __len__ 함수는 데이터셋의 샘플 개수를 반환 \r\n",
    "    def __len__(self):\r\n",
    "        return len(self.img_labels)\r\n",
    "\r\n",
    "    # __getitem__ 함수는 주어진 idx에 해당하는 샘플을 데이터셋에서 불러와서 반환 \r\n",
    "    # idx를 기반으로 이미지의 위치를 식별하고 read_image를 사용하여 이미지를 텐서로 변환 \r\n",
    "    # self.img_labels의 csv 데이터로부터 해당하는 label을 가져오고 해당하면 transform 함수를 호출한 뒤\r\n",
    "    # 텐서 이미지와 label을 dict 형으로 반환 \r\n",
    "    def __getitem__(self, idx):\r\n",
    "        img_path = os.path.join(self.img_dir, self.img_labels.iloc[idx, 0])\r\n",
    "        image = read_image(img_path)\r\n",
    "        label = self.img_labels.iloc[idx, 1]\r\n",
    "\r\n",
    "        if self.transform:\r\n",
    "            image = self.transform(image)\r\n",
    "        if self.target_transform :\r\n",
    "            label = self.target_transform(label)\r\n",
    "\r\n",
    "        return image, label"
   ],
   "outputs": [],
   "metadata": {}
  },
  {
   "cell_type": "markdown",
   "source": [
    "# DataLoader로 학습용 데이터 준비하기 \r\n",
    "Dataset은 데이터셋의 feature을 가져오고 하나의 샘플에 label을 지정하는 일을 한 번에 한다\r\n",
    "모델을 학습 할 때 minibatch로 전달하고 epoch 마다 데이터를 다시 섞어서 overfit을 막고 \r\n",
    "python의 multiprocessing을 사용하여 데이터 검색 속도를 높이려고한다."
   ],
   "metadata": {}
  },
  {
   "cell_type": "code",
   "execution_count": 6,
   "source": [
    "# DataLoader으 간단한 API로 이러한 복잡한 과정들을 추상화한 반복 가능한 ITERATABLE이다\r\n",
    "from torch.utils.data import DataLoader\r\n",
    "\r\n",
    "train_dataloader = DataLoader(training_data, batch_size = 64, shuffle = True)\r\n",
    "test_dataloader = DataLoader(test_data, batch_size = 64, shuffle = True)"
   ],
   "outputs": [],
   "metadata": {}
  },
  {
   "cell_type": "markdown",
   "source": [
    "# DataLoader를 통해 반복하기 \r\n",
    "DataLoader에 데이터셋을 불러온 뒤에는 필요에 따라 데이터셋을 반복(iterate) 할 수 있다. \r\n",
    "아래의 각 반복(iteration)은 \r\n",
    "각각 (batch_size = 64의 feature과 label을 포함하는) train_features와 train_labels의 batch로 반환한다. \r\n",
    "shuffle을 True로 했기때문에 배치를 반복한 뒤 데이터가 섞임 "
   ],
   "metadata": {}
  },
  {
   "cell_type": "code",
   "execution_count": 10,
   "source": [
    "# 이미지와 label을 표시하는 것 \r\n",
    "train_features, train_labels = next(iter(train_dataloader))\r\n",
    "print(f\"Feature batch shape : {train_features.size()}\")\r\n",
    "print(f\"Labels batch shape : {train_labels.size()}\")\r\n",
    "\r\n",
    "img = train_features[0].squeeze()\r\n",
    "label = train_labels[0]\r\n",
    "plt.imshow(img, cmap=\"gray\")\r\n",
    "plt.show()\r\n",
    "print(f\"Label : {label}\")\r\n"
   ],
   "outputs": [
    {
     "output_type": "stream",
     "name": "stdout",
     "text": [
      "Feature batch shape : torch.Size([64, 1, 28, 28])\n",
      "Labels batch shape : torch.Size([64])\n"
     ]
    },
    {
     "output_type": "display_data",
     "data": {
      "text/plain": [
       "<Figure size 432x288 with 1 Axes>"
      ],
      "image/png": "[encoded data removed]"
     },
     "metadata": {
      "needs_background": "light"
     }
    },
    {
     "output_type": "stream",
     "name": "stdout",
     "text": [
      "Label : 2\n"
     ]
    }
   ],
   "metadata": {}
  }
 ],
 "metadata": {
  "orig_nbformat": 4,
  "language_info": {
   "name": "python",
   "version": "3.9.5",
   "mimetype": "text/x-python",
   "codemirror_mode": {
    "name": "ipython",
    "version": 3
   },
   "pygments_lexer": "ipython3",
   "nbconvert_exporter": "python",
   "file_extension": ".py"
  },
  "kernelspec": {
   "name": "python3",
   "display_name": "Python 3.9.5 64-bit ('venv': venv)"
  },
  "interpreter": {
   "hash": "14612188b5106734f13b419466ff7a8ffd40ac17353063e9377077bed0ab83e2"
  }
 },
 "nbformat": 4,
 "nbformat_minor": 2
}